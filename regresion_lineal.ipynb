{
  "nbformat": 4,
  "nbformat_minor": 0,
  "metadata": {
    "colab": {
      "provenance": [],
      "authorship_tag": "ABX9TyMA6+2mDzERl7ILleQ6ppyq",
      "include_colab_link": true
    },
    "kernelspec": {
      "name": "python3",
      "display_name": "Python 3"
    },
    "language_info": {
      "name": "python"
    }
  },
  "cells": [
    {
      "cell_type": "markdown",
      "metadata": {
        "id": "view-in-github",
        "colab_type": "text"
      },
      "source": [
        "<a href=\"https://colab.research.google.com/github/LuisAdrRamos/prueba_IA_BIM1/blob/main/regresion_lineal.ipynb\" target=\"_parent\"><img src=\"https://colab.research.google.com/assets/colab-badge.svg\" alt=\"Open In Colab\"/></a>"
      ]
    },
    {
      "cell_type": "code",
      "execution_count": null,
      "metadata": {
        "id": "EwO_HogEuof2"
      },
      "outputs": [],
      "source": [
        "import pandas as pd\n",
        "import numpy as np\n",
        "import matplotlib.pyplot as plt\n",
        "from sklearn.linear_model import LinearRegression\n",
        "from sklearn.metrics import r2_score, mean_squared_error, mean_absolute_error\n",
        "from sklearn.model_selection import train_test_split"
      ]
    },
    {
      "cell_type": "code",
      "source": [
        "# Cargar los datos desde GitHub\n",
        "iq_ingresos_data = pd.read_txt(\"\")\n",
        "gpu_price = pd.read_csv(\"https://raw.githubusercontent.com/josdank/Fundamentos-de-IA/Deberes/Regresion_lineal/gpu_price_history.csv\")\n",
        "print(\"Primeras filas de los datos:\")\n",
        "print(gpu_metadata.head())\n",
        "print(\"\\nPrimeras filas de los datos:\")\n",
        "print(gpu_price.head())"
      ],
      "metadata": {
        "id": "N6AhRXBau8mX"
      },
      "execution_count": null,
      "outputs": []
    }
  ]
}